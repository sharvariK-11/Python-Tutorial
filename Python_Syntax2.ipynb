{
  "nbformat": 4,
  "nbformat_minor": 0,
  "metadata": {
    "colab": {
      "name": "Python_Syntax2.ipynb",
      "provenance": [],
      "collapsed_sections": [],
      "mount_file_id": "1oJ1eHqZ7CNI9ZQwQMwzaYrzebElPj9fn",
      "authorship_tag": "ABX9TyP0nOvkReGUcMFG8rxW033c",
      "include_colab_link": true
    },
    "kernelspec": {
      "name": "python3",
      "display_name": "Python 3"
    },
    "language_info": {
      "name": "python"
    }
  },
  "cells": [
    {
      "cell_type": "markdown",
      "metadata": {
        "id": "view-in-github",
        "colab_type": "text"
      },
      "source": [
        "<a href=\"https://colab.research.google.com/github/sharvariK-11/Python-Tutorial/blob/main/Python_Syntax2.ipynb\" target=\"_parent\"><img src=\"https://colab.research.google.com/assets/colab-badge.svg\" alt=\"Open In Colab\"/></a>"
      ]
    },
    {
      "cell_type": "code",
      "metadata": {
        "id": "rx8LiQqR-hXi"
      },
      "source": [
        "print(2<3)\n",
        "\n"
      ],
      "execution_count": null,
      "outputs": []
    },
    {
      "cell_type": "markdown",
      "metadata": {
        "id": "03iIUxrb9x4R"
      },
      "source": [
        "THE EQUIVALECE OPERATPOR IS == \n",
        "!= means not equal to"
      ]
    },
    {
      "cell_type": "code",
      "metadata": {
        "id": "eXdG0NVt9tzJ",
        "colab": {
          "base_uri": "https://localhost:8080/"
        },
        "outputId": "204c0974-96f5-4224-cc47-e2f802678a54"
      },
      "source": [
        "print('hello'==\"hello\")"
      ],
      "execution_count": 5,
      "outputs": [
        {
          "output_type": "stream",
          "text": [
            "True\n"
          ],
          "name": "stdout"
        }
      ]
    },
    {
      "cell_type": "code",
      "metadata": {
        "id": "l1-rr8jRQ4P4",
        "colab": {
          "base_uri": "https://localhost:8080/"
        },
        "outputId": "92c2d185-1cf4-41f5-c506-5ff51f9dacae"
      },
      "source": [
        "print('hello'=='Hello')"
      ],
      "execution_count": 6,
      "outputs": [
        {
          "output_type": "stream",
          "text": [
            "False\n"
          ],
          "name": "stdout"
        }
      ]
    },
    {
      "cell_type": "markdown",
      "metadata": {
        "id": "Yebjju5O-Unz"
      },
      "source": [
        "DECISION MAKING (if else conditions)\n",
        "syntax \n",
        "if condition== true:\n",
        "   do this \n",
        "else:\n",
        "   do that   (indentetion matters for python)"
      ]
    },
    {
      "cell_type": "code",
      "metadata": {
        "id": "KHz8DvFMBH-J",
        "colab": {
          "base_uri": "https://localhost:8080/"
        },
        "outputId": "3ac9edf3-e3e6-48fa-c8ae-e68cd594525d"
      },
      "source": [
        "x=9\n",
        "if x==9:\n",
        "  print(\"yes\")"
      ],
      "execution_count": 17,
      "outputs": [
        {
          "output_type": "stream",
          "text": [
            "yes\n"
          ],
          "name": "stdout"
        }
      ]
    },
    {
      "cell_type": "code",
      "metadata": {
        "id": "I4H770mt_oYQ",
        "colab": {
          "base_uri": "https://localhost:8080/"
        },
        "outputId": "86470bf7-5217-4e09-ff76-3de9b425f815"
      },
      "source": [
        "age= input('Input ur age:')\n",
        "if age==16:\n",
        "   print('hey u r 16')\n",
        "if int(age)==16: \n",
        "   print(\"hey\")"
      ],
      "execution_count": 22,
      "outputs": [
        {
          "output_type": "stream",
          "text": [
            "Input ur age:16\n",
            "hey\n"
          ],
          "name": "stdout"
        }
      ]
    },
    {
      "cell_type": "markdown",
      "metadata": {
        "id": "3J6xB9LtAU84"
      },
      "source": [
        "yeah nothing happens bcoz ur input through keyboard is string and that wont be equal to int 16.\n",
        "so manipulate it to convert string to int."
      ]
    },
    {
      "cell_type": "code",
      "metadata": {
        "id": "vEStPWe-B2n6",
        "colab": {
          "base_uri": "https://localhost:8080/"
        },
        "outputId": "dbfd319f-9bec-47f1-a2be-0c1b356eb024"
      },
      "source": [
        "age=input('input age:')\n",
        "if int(age)>=16:\n",
        "  print('u older than 16')\n",
        "else:\n",
        "  print('u younger than 16')"
      ],
      "execution_count": 4,
      "outputs": [
        {
          "output_type": "stream",
          "text": [
            "input age:15\n",
            "u younger than 16\n"
          ],
          "name": "stdout"
        }
      ]
    },
    {
      "cell_type": "code",
      "metadata": {
        "id": "opveiRw2AjVW",
        "colab": {
          "base_uri": "https://localhost:8080/"
        },
        "outputId": "6d6d329c-7430-429c-f991-e6b181711e08"
      },
      "source": [
        "height=input('what is ur height?')\n",
        "if float(height)<1:\n",
        "  print(\"u cant ride\")\n",
        "elif float(height)>2:\n",
        "  print('u cant ride')\n",
        "else:\n",
        "  print(\"u can\")"
      ],
      "execution_count": 8,
      "outputs": [
        {
          "output_type": "stream",
          "text": [
            "what is ur height?1\n",
            "u can\n"
          ],
          "name": "stdout"
        }
      ]
    },
    {
      "cell_type": "code",
      "metadata": {
        "id": "CUPfwg0VF1WO",
        "colab": {
          "base_uri": "https://localhost:8080/"
        },
        "outputId": "803c0502-aad9-4118-f504-be04de23dfe1"
      },
      "source": [
        "abc=input(\"roll no\")\n",
        "if int(abc)<5:\n",
        "  print(int(abc)<5)\n",
        "if int(abc)<4:\n",
        "  print(\"4\")"
      ],
      "execution_count": 9,
      "outputs": [
        {
          "output_type": "stream",
          "text": [
            "roll no5\n"
          ],
          "name": "stdout"
        }
      ]
    },
    {
      "cell_type": "markdown",
      "metadata": {
        "id": "Zrho-0fJGoMC"
      },
      "source": [
        "here all conditions are checked irrespective of whether they are true or false"
      ]
    },
    {
      "cell_type": "code",
      "metadata": {
        "id": "TflWVg_WH9vj",
        "colab": {
          "base_uri": "https://localhost:8080/"
        },
        "outputId": "3458862a-6a11-45d0-9321-18031b4cc508"
      },
      "source": [
        "x=3\n",
        "y=4\n",
        "if not(x==y or x+y==7):\n",
        "  print('yea')\n",
        "else:\n",
        "  print('nah')"
      ],
      "execution_count": 10,
      "outputs": [
        {
          "output_type": "stream",
          "text": [
            "nah\n"
          ],
          "name": "stdout"
        }
      ]
    },
    {
      "cell_type": "markdown",
      "metadata": {
        "id": "O637ZOn6IY5s"
      },
      "source": [
        "only when the condition of if is true then the corresponding order is fulfilled (here print)\n",
        "not basically reverses the condition"
      ]
    },
    {
      "cell_type": "code",
      "metadata": {
        "id": "KQTfmwejJtZk",
        "colab": {
          "base_uri": "https://localhost:8080/"
        },
        "outputId": "9d5e113d-8985-4fd8-b2cb-88203a99e112"
      },
      "source": [
        "x=1 \n",
        "y=3\n",
        "if x==2:\n",
        "  if y==3:\n",
        "    print('x=2,y=3')\n",
        "else:\n",
        "  print(\"x!=2\")"
      ],
      "execution_count": 11,
      "outputs": [
        {
          "output_type": "stream",
          "text": [
            "x!=2\n"
          ],
          "name": "stdout"
        }
      ]
    },
    {
      "cell_type": "markdown",
      "metadata": {
        "id": "l7W8PRGCKfXt"
      },
      "source": [
        "note here, even if y==3 is satisfied it wont be printed cos this condition is nested in another if condition which is false .....thus if the main condition is false we suspend that loop there . i.e dont check further conditions."
      ]
    },
    {
      "cell_type": "code",
      "metadata": {
        "id": "fBPc_SYVNfy9",
        "colab": {
          "base_uri": "https://localhost:8080/"
        },
        "outputId": "d68afb70-07a5-490c-922c-382aafe02e2e"
      },
      "source": [
        "for x in range(0,10,3):\n",
        "  print(x)"
      ],
      "execution_count": 13,
      "outputs": [
        {
          "output_type": "stream",
          "text": [
            "0\n",
            "3\n",
            "6\n",
            "9\n"
          ],
          "name": "stdout"
        }
      ]
    },
    {
      "cell_type": "markdown",
      "metadata": {
        "id": "061yO46XN5x1"
      },
      "source": [
        "note: the next no. must be < 10 strictly ;\n",
        "once x=9, loop runs and 9 is printed then x=10;\n",
        "but now x=10 dosent satisfy condn so it is not printed here."
      ]
    },
    {
      "cell_type": "code",
      "metadata": {
        "id": "1o9UNOB0N5lJ",
        "colab": {
          "base_uri": "https://localhost:8080/"
        },
        "outputId": "d98b2f59-81cb-44c8-960a-5b970ac3793e"
      },
      "source": [
        "while x:\n",
        "  password=input('enter password: ')\n",
        "  if password=='stop':\n",
        "    x=False\n",
        "\n"
      ],
      "execution_count": 12,
      "outputs": [
        {
          "output_type": "stream",
          "text": [
            "enter password: pray\n",
            "enter password: may\n",
            "enter password: stop\n"
          ],
          "name": "stdout"
        }
      ]
    },
    {
      "cell_type": "markdown",
      "metadata": {
        "id": "N5F7beogSGqS"
      },
      "source": [
        "runs as long as condn becomes false or encounters break.\n",
        "while x: by default means while x== True.\n",
        "as long as u r in if or while use == \n",
        "but while assignung a value use = only."
      ]
    },
    {
      "cell_type": "code",
      "metadata": {
        "id": "BRZdtoSkWNN8",
        "colab": {
          "base_uri": "https://localhost:8080/"
        },
        "outputId": "6524e271-06bb-46a3-99d9-e7e2356715ea"
      },
      "source": [
        "fruits=['apple','pear']\n",
        "print(fruits)\n",
        "print(fruits[1])\n",
        "fruits.append('guava')\n",
        "print(fruits)\n",
        "fruits[1]='strawberry'\n",
        "print(fruits)\n",
        "print(type(fruits))\n",
        "x=fruits[1]\n",
        "fruits[1]=fruits[2]\n",
        "fruits[2]=x\n",
        "print(fruits)"
      ],
      "execution_count": 14,
      "outputs": [
        {
          "output_type": "stream",
          "text": [
            "['apple', 'pear']\n",
            "pear\n",
            "['apple', 'pear', 'guava']\n",
            "['apple', 'strawberry', 'guava']\n",
            "<class 'list'>\n",
            "['apple', 'guava', 'strawberry']\n"
          ],
          "name": "stdout"
        }
      ]
    },
    {
      "cell_type": "markdown",
      "metadata": {
        "id": "HtCGlREQiodr"
      },
      "source": [
        "these are known as lists ."
      ]
    },
    {
      "cell_type": "code",
      "metadata": {
        "id": "9-Oba2wai4CC",
        "colab": {
          "base_uri": "https://localhost:8080/"
        },
        "outputId": "a03d61e0-6bf5-4d22-a481-77a69407bb13"
      },
      "source": [
        "position=(2,3)\n",
        "print(type(position))\n",
        "print(position[1])\n",
        "print(position)"
      ],
      "execution_count": 15,
      "outputs": [
        {
          "output_type": "stream",
          "text": [
            "<class 'tuple'>\n",
            "3\n",
            "(2, 3)\n"
          ],
          "name": "stdout"
        }
      ]
    },
    {
      "cell_type": "code",
      "metadata": {
        "id": "HjlGhP8OmqjR",
        "colab": {
          "base_uri": "https://localhost:8080/"
        },
        "outputId": "72fb4269-d18c-46ae-db7d-0666100837e8"
      },
      "source": [
        "fruits=['mango', 'banana','pear','berry']\n",
        "print(fruits)\n",
        "for x in range(0,4):\n",
        "  if fruits[x]=='pear':\n",
        "    print(fruits[x])\n",
        "for x in range (len(fruits)):\n",
        "  if fruits[x]=='pear':\n",
        "    print(fruits[x])\n",
        "for p in fruits:\n",
        "  if p=='pear':\n",
        "    print(p)\n",
        "  else:\n",
        "    print('not a pear')"
      ],
      "execution_count": 16,
      "outputs": [
        {
          "output_type": "stream",
          "text": [
            "['mango', 'banana', 'pear', 'berry']\n",
            "pear\n",
            "pear\n",
            "not a pear\n",
            "not a pear\n",
            "pear\n",
            "not a pear\n"
          ],
          "name": "stdout"
        }
      ]
    },
    {
      "cell_type": "markdown",
      "metadata": {
        "id": "1NotslQ0oRzK"
      },
      "source": [
        "u can do by any of these iterating methods:\n",
        "1. by indice \n",
        "2. by items : p is any item in fruits(list)\n",
        "the len(fruits) gives no of items but waise bhi (0,n,10)\n",
        "its actually iteration happens for items<n i.e here x can take values 0,1,2,3\n",
        "and n=4 implies x < 4.\n",
        "for x in range ( by item or indices)\n",
        "loop checks for items sequentially i.e for x=0 then 1,2,3\n",
        "that is why \n",
        "for p in range fruits:\n",
        "  if p=='pear':\n",
        "    print(yes)\n",
        "   else:\n",
        "     print (no)\n",
        "output=\n",
        "no,no,yes,no ( checks all items)\n"
      ]
    },
    {
      "cell_type": "code",
      "metadata": {
        "id": "CtxhusKysBcX",
        "colab": {
          "base_uri": "https://localhost:8080/"
        },
        "outputId": "57fa42f9-41ef-41aa-8d87-dde96f42335a"
      },
      "source": [
        "x=input('input a word:')\n",
        "print(x)\n",
        "print(x.strip())\n",
        "print(len(x))\n"
      ],
      "execution_count": 21,
      "outputs": [
        {
          "output_type": "stream",
          "text": [
            "input a word:   sharvar i \n",
            "   sharvar i \n",
            "sharvar i\n",
            "13\n"
          ],
          "name": "stdout"
        }
      ]
    },
    {
      "cell_type": "markdown",
      "metadata": {
        "id": "aFsVb8EMsXXM"
      },
      "source": [
        ".strip() method removes initial and trailing spaces in words.\n",
        "also len(a) gives the length of the string a or list a.\n",
        "P.S it notes spaces too!!!"
      ]
    },
    {
      "cell_type": "code",
      "metadata": {
        "id": "5T8yVgfHuIrb",
        "colab": {
          "base_uri": "https://localhost:8080/"
        },
        "outputId": "25921dc3-2ae1-4e4d-902c-8910a79f05e5"
      },
      "source": [
        "x=input('input something: ')\n",
        "print(x.upper())\n",
        "p=input('input: ')\n",
        "print(p.split())\n",
        "print(p.split('.'))"
      ],
      "execution_count": 19,
      "outputs": [
        {
          "output_type": "stream",
          "text": [
            "input something: helLO\n",
            "HELLO\n",
            "input: ShaR.va.Ri\n",
            "['ShaR.va.Ri']\n",
            "['ShaR', 'va', 'Ri']\n"
          ],
          "name": "stdout"
        }
      ]
    },
    {
      "cell_type": "markdown",
      "metadata": {
        "id": "sawPfTn4vLne"
      },
      "source": [
        "line 4 code gives items of list that are actually sepearted by spaces\n",
        "line 5 code actually splits the sentence at \".\" and makes list of that , spaces as it is."
      ]
    },
    {
      "cell_type": "code",
      "metadata": {
        "id": "QvFQuJK-xXde",
        "colab": {
          "base_uri": "https://localhost:8080/"
        },
        "outputId": "2639c0e4-892b-44f6-db3e-e92de3da9185"
      },
      "source": [
        "fruits=['pear','guava', 'mango']\n",
        "text='Hello I like Python'\n",
        "print(fruits[2])\n",
        "print(text[1])\n",
        "print(text[0:17:3])\n",
        "print(text[3:])\n",
        "fruits.append('berry')\n",
        "print(fruits)\n",
        "\n",
        "\n",
        "fruits[1:1]='b'\n",
        "print(fruits)"
      ],
      "execution_count": 18,
      "outputs": [
        {
          "output_type": "stream",
          "text": [
            "mango\n",
            "e\n",
            "HlIi t\n",
            "lo I like Python\n",
            "['pear', 'guava', 'mango', 'berry']\n",
            "['pear', 'b', 'guava', 'mango', 'berry']\n"
          ],
          "name": "stdout"
        }
      ]
    },
    {
      "cell_type": "markdown",
      "metadata": {
        "id": "ZeQT2NITyi5m"
      },
      "source": [
        "text[start:end:step]prints the string from letter at text[start] to text[end] by skiiping step-1 words after noting previoyus letter.\n",
        "text[start:] by default means frm text[start] to end of the string. consider space as a letter itself no hussle there.\n",
        "step means skip the step-1 words"
      ]
    }
  ]
}