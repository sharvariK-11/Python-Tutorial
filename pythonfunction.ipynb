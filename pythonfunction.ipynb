{
  "nbformat": 4,
  "nbformat_minor": 0,
  "metadata": {
    "colab": {
      "name": "pythonfunction.ipynb",
      "provenance": [],
      "authorship_tag": "ABX9TyNLvn2Pg4nv2l/rduL3PoKs",
      "include_colab_link": true
    },
    "kernelspec": {
      "name": "python3",
      "display_name": "Python 3"
    },
    "language_info": {
      "name": "python"
    }
  },
  "cells": [
    {
      "cell_type": "markdown",
      "metadata": {
        "id": "view-in-github",
        "colab_type": "text"
      },
      "source": [
        "<a href=\"https://colab.research.google.com/github/sharvariK-11/Python-Tutorial/blob/main/pythonfunction.ipynb\" target=\"_parent\"><img src=\"https://colab.research.google.com/assets/colab-badge.svg\" alt=\"Open In Colab\"/></a>"
      ]
    },
    {
      "cell_type": "code",
      "metadata": {
        "colab": {
          "base_uri": "https://localhost:8080/"
        },
        "id": "Eok21i4Zq6tI",
        "outputId": "0f7bbd25-ac31-4071-80cf-519afae1dd3d"
      },
      "source": [
        "def add(x):\n",
        "  return x+2\n",
        "newno = add(5)\n",
        "print(newno)\n",
        "\n",
        "def printstring(string):\n",
        "  print(string)\n",
        "printstring('hello')\n",
        "\n",
        "def something():\n",
        "  print(\"hii\")\n",
        "something()\n",
        "\n",
        "def force(m,a):\n",
        "  print(m*a)\n",
        "force(2,3)"
      ],
      "execution_count": null,
      "outputs": [
        {
          "output_type": "stream",
          "text": [
            "7\n",
            "hello\n",
            "hii\n",
            "6\n"
          ],
          "name": "stdout"
        }
      ]
    },
    {
      "cell_type": "code",
      "metadata": {
        "colab": {
          "base_uri": "https://localhost:8080/"
        },
        "id": "3TWhZV7mD_MI",
        "outputId": "a2b03299-8216-4b1d-84d0-ab8a90243989"
      },
      "source": [
        "set1=set([1,2,3])\n",
        "print(set1)\n",
        "set2=set([1,2,'geeks',9])\n",
        "print(\" input\")\n",
        "print(\"\\n see the space created due to ye initial symbol i.e new line is created\")\n",
        "print(set2)"
      ],
      "execution_count": null,
      "outputs": [
        {
          "output_type": "stream",
          "text": [
            "{1, 2, 3}\n",
            " input\n",
            "\n",
            " see the space created due to ye initial symbol i.e new line is created\n",
            "{1, 2, 'geeks', 9}\n"
          ],
          "name": "stdout"
        }
      ]
    }
  ]
}