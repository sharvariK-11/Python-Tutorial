{
  "nbformat": 4,
  "nbformat_minor": 0,
  "metadata": {
    "colab": {
      "name": "Numpy.ipynb",
      "provenance": [],
      "authorship_tag": "ABX9TyNSpUGR7EVjb9+ecv7woJFy",
      "include_colab_link": true
    },
    "kernelspec": {
      "name": "python3",
      "display_name": "Python 3"
    },
    "language_info": {
      "name": "python"
    }
  },
  "cells": [
    {
      "cell_type": "markdown",
      "metadata": {
        "id": "view-in-github",
        "colab_type": "text"
      },
      "source": [
        "<a href=\"https://colab.research.google.com/github/sharvariK-11/Python-Tutorial/blob/main/Numpy.ipynb\" target=\"_parent\"><img src=\"https://colab.research.google.com/assets/colab-badge.svg\" alt=\"Open In Colab\"/></a>"
      ]
    },
    {
      "cell_type": "code",
      "metadata": {
        "colab": {
          "base_uri": "https://localhost:8080/"
        },
        "id": "D2EUXaTpOXBO",
        "outputId": "55caf37e-8a07-4bdb-de67-9b9b5a5115d5"
      },
      "source": [
        "import numpy as np\n",
        "a=np.array([1,2,3])\n",
        "print(a)\n",
        "b=np.array([2,4,6])\n",
        "print(b)\n",
        "print(a+b)\n",
        "\n",
        "\n"
      ],
      "execution_count": null,
      "outputs": [
        {
          "output_type": "stream",
          "text": [
            "[1 2 3]\n",
            "[2 4 6]\n",
            "[3 6 9]\n"
          ],
          "name": "stdout"
        }
      ]
    },
    {
      "cell_type": "markdown",
      "metadata": {
        "id": "tOCxf5A6S74p"
      },
      "source": [
        "its same like list in python but more effective. Now see two dimensional array."
      ]
    },
    {
      "cell_type": "code",
      "metadata": {
        "colab": {
          "base_uri": "https://localhost:8080/"
        },
        "id": "LXhBA_xBS7NN",
        "outputId": "01d7e403-b613-49f4-97d8-ba5dc6ba8720"
      },
      "source": [
        "a=np.array([[1,2],[3,4]])\n",
        "b=np.array([[2,3],[1,3]])\n",
        "print(a+b)\n",
        "print(a.dot(b))"
      ],
      "execution_count": null,
      "outputs": [
        {
          "output_type": "stream",
          "text": [
            "[[3 5]\n",
            " [4 7]]\n",
            "[[ 4  9]\n",
            " [10 21]]\n"
          ],
          "name": "stdout"
        }
      ]
    },
    {
      "cell_type": "markdown",
      "metadata": {
        "id": "UaPOgpKmrq6Z"
      },
      "source": [
        "### yes\n"
      ]
    },
    {
      "cell_type": "code",
      "metadata": {
        "colab": {
          "base_uri": "https://localhost:8080/"
        },
        "id": "bAGOLBL1Vkyz",
        "outputId": "ebc746d4-1fd2-4913-ad3e-48b21b047741"
      },
      "source": [
        "a=np.array([1,2,3])\n",
        "b=a[0:2]\n",
        "print(b)\n",
        "a[-1]"
      ],
      "execution_count": null,
      "outputs": [
        {
          "output_type": "stream",
          "text": [
            "[1 2]\n"
          ],
          "name": "stdout"
        },
        {
          "output_type": "execute_result",
          "data": {
            "text/plain": [
              "3"
            ]
          },
          "metadata": {
            "tags": []
          },
          "execution_count": 35
        }
      ]
    },
    {
      "cell_type": "markdown",
      "metadata": {
        "id": "YMkeBb_bWADB"
      },
      "source": [
        "[0:2] means from element corresponding 0 to <2. use out of range concept here also"
      ]
    },
    {
      "cell_type": "code",
      "metadata": {
        "colab": {
          "base_uri": "https://localhost:8080/"
        },
        "id": "LWTmlNANW8E0",
        "outputId": "3aaa5a7c-dc14-4f16-e7b6-b2aebb933c48"
      },
      "source": [
        "a=np.array([[1,2,3],[4,5,6], [7,8,9]])\n",
        "print(a[0:3])\n",
        "for cell in a.flat:\n",
        "  print(cell)\n",
        "c=np.arange(6)\n",
        "print(c)\n",
        "d=np.arange(6).reshape(2,3)\n",
        "d\n"
      ],
      "execution_count": null,
      "outputs": [
        {
          "output_type": "stream",
          "text": [
            "[[1 2 3]\n",
            " [4 5 6]\n",
            " [7 8 9]]\n",
            "1\n",
            "2\n",
            "3\n",
            "4\n",
            "5\n",
            "6\n",
            "7\n",
            "8\n",
            "9\n",
            "[0 1 2 3 4 5]\n"
          ],
          "name": "stdout"
        },
        {
          "output_type": "execute_result",
          "data": {
            "text/plain": [
              "array([[0, 1, 2],\n",
              "       [3, 4, 5]])"
            ]
          },
          "metadata": {
            "tags": []
          },
          "execution_count": 43
        }
      ]
    },
    {
      "cell_type": "markdown",
      "metadata": {
        "id": "BFFolBuqYYke"
      },
      "source": [
        "reshape means (x,y) x rows and y columns\n",
        "arange(n) means array of numbers o to n-1"
      ]
    },
    {
      "cell_type": "code",
      "metadata": {
        "colab": {
          "base_uri": "https://localhost:8080/"
        },
        "id": "ED-5MRfIW62-",
        "outputId": "af2f9b8e-aad4-4ce3-860e-9b0d12a8ef6b"
      },
      "source": [
        "a=np.arange(6).reshape(3,2)\n",
        "print(a)\n",
        "b=a>3\n",
        "print(b)\n",
        "a[b]=-1\n",
        "a\n"
      ],
      "execution_count": null,
      "outputs": [
        {
          "output_type": "stream",
          "text": [
            "[[0 1]\n",
            " [2 3]\n",
            " [4 5]]\n",
            "[[False False]\n",
            " [False False]\n",
            " [ True  True]]\n"
          ],
          "name": "stdout"
        },
        {
          "output_type": "execute_result",
          "data": {
            "text/plain": [
              "array([[ 0,  1],\n",
              "       [ 2,  3],\n",
              "       [-1, -1]])"
            ]
          },
          "metadata": {
            "tags": []
          },
          "execution_count": 46
        }
      ]
    }
  ]
}