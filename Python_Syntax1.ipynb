{
  "nbformat": 4,
  "nbformat_minor": 0,
  "metadata": {
    "colab": {
      "name": "Python_Syntax1.ipynb",
      "provenance": [],
      "authorship_tag": "ABX9TyPabxIzNXXbFbdP/WBgWk95",
      "include_colab_link": true
    },
    "kernelspec": {
      "name": "python3",
      "display_name": "Python 3"
    },
    "language_info": {
      "name": "python"
    }
  },
  "cells": [
    {
      "cell_type": "markdown",
      "metadata": {
        "id": "view-in-github",
        "colab_type": "text"
      },
      "source": [
        "<a href=\"https://colab.research.google.com/github/sharvariK-11/Python-Tutorial/blob/main/Python_Syntax1.ipynb\" target=\"_parent\"><img src=\"https://colab.research.google.com/assets/colab-badge.svg\" alt=\"Open In Colab\"/></a>"
      ]
    },
    {
      "cell_type": "code",
      "metadata": {
        "colab": {
          "base_uri": "https://localhost:8080/"
        },
        "id": "cRysNda7cAKn",
        "outputId": "ffe3ca78-150e-4238-ea86-3afef20936c2"
      },
      "source": [
        "age='Yes'\n",
        "print(age)"
      ],
      "execution_count": 4,
      "outputs": [
        {
          "output_type": "stream",
          "text": [
            "Yes\n"
          ],
          "name": "stdout"
        }
      ]
    },
    {
      "cell_type": "code",
      "metadata": {
        "id": "zQdkkqDJdPo7",
        "colab": {
          "base_uri": "https://localhost:8080/"
        },
        "outputId": "1876fc6f-13cf-44b3-959d-99034d31faa6"
      },
      "source": [
        "name='shar'\n",
        "print(name)"
      ],
      "execution_count": 5,
      "outputs": [
        {
          "output_type": "stream",
          "text": [
            "shar\n"
          ],
          "name": "stdout"
        }
      ]
    },
    {
      "cell_type": "code",
      "metadata": {
        "id": "MaFtUCDmdhAg",
        "colab": {
          "base_uri": "https://localhost:8080/"
        },
        "outputId": "c5a08f04-8e93-41c8-dbfe-bbd1a4ac527c"
      },
      "source": [
        "print('Hello, what is your name?')\n",
        "x=input()\n",
        "print('Hello',x)\n",
        "print('Hello,',x)"
      ],
      "execution_count": 6,
      "outputs": [
        {
          "output_type": "stream",
          "text": [
            "Hello, what is your name?\n",
            "sharvari\n",
            "Hello sharvari\n",
            "Hello, sharvari\n"
          ],
          "name": "stdout"
        }
      ]
    },
    {
      "cell_type": "markdown",
      "metadata": {
        "id": "v9WDzdCkd_Up"
      },
      "source": [
        "variable=input() means python asks for a input.\n",
        "when u type in a input that gets stored in variable , so later u can perform other operations using that variable which will now contain the input you have entered. One more imp thing whenever u want to print a string by writing in commas, and also u want to use variable u defined earlier , thr should be comma between them eg print('hello',x) if u write ('hello' x) this gives error coz a comma should seperate str and and variable."
      ]
    },
    {
      "cell_type": "code",
      "metadata": {
        "id": "uwvgDV4NfzWm",
        "colab": {
          "base_uri": "https://localhost:8080/"
        },
        "outputId": "c6cb20cf-7113-4083-a1bc-a75d93ad3940"
      },
      "source": [
        "print('pick a no.:')\n",
        "num1=input()\n",
        "print('pick another no.:')\n",
        "num2=input()\n",
        "print(type(num2))\n",
        "print(num1+num2)\n",
        "num3=int(num1) + int(num2)\n",
        "print(num3)"
      ],
      "execution_count": 7,
      "outputs": [
        {
          "output_type": "stream",
          "text": [
            "pick a no.:\n",
            "3\n",
            "pick another no.:\n",
            "4\n",
            "<class 'str'>\n",
            "34\n",
            "7\n"
          ],
          "name": "stdout"
        }
      ]
    },
    {
      "cell_type": "markdown",
      "metadata": {
        "id": "CAeHEteHjYkF"
      },
      "source": [
        "so here if u dnt specify the data type it takes datatype as str whenever u give input from keyboard so + acts as operator which adds string 3 and 4 i.e. 34.\n",
        "If u specify 3 and 4 as int then + operator adds 3 and 4 to give 7.\n",
        "print(type(variable)) tells the data type of the variable."
      ]
    },
    {
      "cell_type": "code",
      "metadata": {
        "id": "tHtHTmW2k6Bb",
        "colab": {
          "base_uri": "https://localhost:8080/",
          "height": 130
        },
        "outputId": "0d03fdce-2fd5-430d-aa5b-c1912428c0c9"
      },
      "source": [
        "int x=input()"
      ],
      "execution_count": 8,
      "outputs": [
        {
          "output_type": "error",
          "ename": "SyntaxError",
          "evalue": "ignored",
          "traceback": [
            "\u001b[0;36m  File \u001b[0;32m\"<ipython-input-8-7084a4086bb3>\"\u001b[0;36m, line \u001b[0;32m1\u001b[0m\n\u001b[0;31m    int x=input()\u001b[0m\n\u001b[0m        ^\u001b[0m\n\u001b[0;31mSyntaxError\u001b[0m\u001b[0;31m:\u001b[0m invalid syntax\n"
          ]
        }
      ]
    },
    {
      "cell_type": "markdown",
      "metadata": {
        "id": "cZ_64DvVlXfa"
      },
      "source": [
        "sooo remember this is not C++ u cannot specify int initially"
      ]
    },
    {
      "cell_type": "code",
      "metadata": {
        "id": "puoH5NDalg63"
      },
      "source": [
        "x=3\n",
        "y=4\n",
        "print(type(x))\n",
        "print(x+y)\n",
        "x='3'\n",
        "y=\"4\"\n",
        "print(x+y)\n",
        "print(int(x)+int(y))"
      ],
      "execution_count": null,
      "outputs": []
    },
    {
      "cell_type": "markdown",
      "metadata": {
        "id": "cphRGpL0mX69"
      },
      "source": [
        "remember!"
      ]
    },
    {
      "cell_type": "code",
      "metadata": {
        "id": "18b9VuagmbEU"
      },
      "source": [
        "x=input()\n",
        "y=input()\n",
        "print(int x+int y)"
      ],
      "execution_count": null,
      "outputs": []
    },
    {
      "cell_type": "markdown",
      "metadata": {
        "id": "BHPUwdnZm90B"
      },
      "source": [
        "this is not C++!"
      ]
    }
  ]
}