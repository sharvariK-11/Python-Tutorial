{
  "nbformat": 4,
  "nbformat_minor": 0,
  "metadata": {
    "colab": {
      "name": "Python_Syntax1.ipynb",
      "provenance": [],
      "authorship_tag": "ABX9TyPabxIzNXXbFbdP/WBgWk95",
      "include_colab_link": true
    },
    "kernelspec": {
      "name": "python3",
      "display_name": "Python 3"
    },
    "language_info": {
      "name": "python"
    }
  },
  "cells": [
    {
      "cell_type": "markdown",
      "metadata": {
        "id": "view-in-github",
        "colab_type": "text"
      },
      "source": [
        "<a href=\"https://colab.research.google.com/github/sharvariK-11/Python-Tutorial/blob/main/Python_Syntax1.ipynb\" target=\"_parent\"><img src=\"https://colab.research.google.com/assets/colab-badge.svg\" alt=\"Open In Colab\"/></a>"
      ]
    },
    {
      "cell_type": "code",
      "metadata": {
        "colab": {
          "base_uri": "https://localhost:8080/"
        },
        "id": "cRysNda7cAKn",
        "outputId": "3a4061f0-7b4d-4c19-edac-fec66e14fabe"
      },
      "source": [
        "age='Yes'\n",
        "print(age)"
      ],
      "execution_count": 9,
      "outputs": [
        {
          "output_type": "stream",
          "text": [
            "Yes\n"
          ],
          "name": "stdout"
        }
      ]
    },
    {
      "cell_type": "code",
      "metadata": {
        "id": "zQdkkqDJdPo7",
        "colab": {
          "base_uri": "https://localhost:8080/"
        },
        "outputId": "06b82087-3d84-4932-e8b1-61395d00fa7f"
      },
      "source": [
        "name='shar'\n",
        "print(name)"
      ],
      "execution_count": 10,
      "outputs": [
        {
          "output_type": "stream",
          "text": [
            "shar\n"
          ],
          "name": "stdout"
        }
      ]
    },
    {
      "cell_type": "code",
      "metadata": {
        "id": "MaFtUCDmdhAg",
        "colab": {
          "base_uri": "https://localhost:8080/"
        },
        "outputId": "54d72e1e-b426-45a5-8ff6-9ba933d1b097"
      },
      "source": [
        "print('Hello, what is your name?')\n",
        "x=input()\n",
        "print('Hello',x)\n",
        "print('Hello,',x)"
      ],
      "execution_count": 11,
      "outputs": [
        {
          "output_type": "stream",
          "text": [
            "Hello, what is your name?\n",
            "sharvari\n",
            "Hello sharvari\n",
            "Hello, sharvari\n"
          ],
          "name": "stdout"
        }
      ]
    },
    {
      "cell_type": "markdown",
      "metadata": {
        "id": "v9WDzdCkd_Up"
      },
      "source": [
        "variable=input() means python asks for a input.\n",
        "when u type in a input that gets stored in variable , so later u can perform other operations using that variable which will now contain the input you have entered. One more imp thing whenever u want to print a string by writing in commas, and also u want to use variable u defined earlier , thr should be comma between them eg print('hello',x) if u write ('hello' x) this gives error coz a comma should seperate str and and variable."
      ]
    },
    {
      "cell_type": "code",
      "metadata": {
        "id": "uwvgDV4NfzWm",
        "colab": {
          "base_uri": "https://localhost:8080/"
        },
        "outputId": "022af9f6-b34f-4868-a795-aa547472c51e"
      },
      "source": [
        "print('pick a no.:')\n",
        "num1=input()\n",
        "print('pick another no.:')\n",
        "num2=input()\n",
        "print(type(num2))\n",
        "print(num1+num2)\n",
        "num3=int(num1) + int(num2)\n",
        "print(num3)"
      ],
      "execution_count": 14,
      "outputs": [
        {
          "output_type": "stream",
          "text": [
            "pick a no.:\n",
            "7\n",
            "pick another no.:\n",
            "4\n",
            "<class 'str'>\n",
            "74\n",
            "11\n"
          ],
          "name": "stdout"
        }
      ]
    },
    {
      "cell_type": "markdown",
      "metadata": {
        "id": "CAeHEteHjYkF"
      },
      "source": [
        "so here if u dnt specify the data type it takes datatype as str whenever u give input from keyboard so + acts as operator which adds string 3 and 4 i.e. 34.\n",
        "If u specify 3 and 4 as int then + operator adds 3 and 4 to give 7.\n",
        "print(type(variable)) tells the data type of the variable."
      ]
    },
    {
      "cell_type": "code",
      "metadata": {
        "id": "tHtHTmW2k6Bb"
      },
      "source": [
        "int x=input()"
      ],
      "execution_count": null,
      "outputs": []
    },
    {
      "cell_type": "markdown",
      "metadata": {
        "id": "cZ_64DvVlXfa"
      },
      "source": [
        "sooo remember this is not C++ u cannot specify int initially"
      ]
    },
    {
      "cell_type": "code",
      "metadata": {
        "id": "puoH5NDalg63",
        "colab": {
          "base_uri": "https://localhost:8080/"
        },
        "outputId": "4a587005-920c-4cb4-f5fd-26d204f4299f"
      },
      "source": [
        "x=3\n",
        "y=4\n",
        "print(type(x))\n",
        "print(x+y)\n",
        "x='3'\n",
        "y=\"4\"\n",
        "print(x+y)\n",
        "print(int(x)+int(y))"
      ],
      "execution_count": 15,
      "outputs": [
        {
          "output_type": "stream",
          "text": [
            "<class 'int'>\n",
            "7\n",
            "34\n",
            "7\n"
          ],
          "name": "stdout"
        }
      ]
    },
    {
      "cell_type": "markdown",
      "metadata": {
        "id": "cphRGpL0mX69"
      },
      "source": [
        "remember!"
      ]
    },
    {
      "cell_type": "code",
      "metadata": {
        "id": "18b9VuagmbEU",
        "colab": {
          "base_uri": "https://localhost:8080/",
          "height": 130
        },
        "outputId": "26c9c2c4-9a2a-4fb1-c849-f78caffcb38b"
      },
      "source": [
        "x=input()\n",
        "y=input()\n",
        "print(int x+int y)"
      ],
      "execution_count": 16,
      "outputs": [
        {
          "output_type": "error",
          "ename": "SyntaxError",
          "evalue": "ignored",
          "traceback": [
            "\u001b[0;36m  File \u001b[0;32m\"<ipython-input-16-570397f8b032>\"\u001b[0;36m, line \u001b[0;32m3\u001b[0m\n\u001b[0;31m    print(int x+int y)\u001b[0m\n\u001b[0m              ^\u001b[0m\n\u001b[0;31mSyntaxError\u001b[0m\u001b[0;31m:\u001b[0m invalid syntax\n"
          ]
        }
      ]
    },
    {
      "cell_type": "markdown",
      "metadata": {
        "id": "BHPUwdnZm90B"
      },
      "source": [
        "this is not C++!"
      ]
    }
  ]
}