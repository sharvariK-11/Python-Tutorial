{
  "nbformat": 4,
  "nbformat_minor": 0,
  "metadata": {
    "colab": {
      "name": "Python_newFunctions.ipynb",
      "provenance": [],
      "collapsed_sections": [],
      "authorship_tag": "ABX9TyM3IiCCDsKSQOZbCTnxdgg5",
      "include_colab_link": true
    },
    "kernelspec": {
      "name": "python3",
      "display_name": "Python 3"
    },
    "language_info": {
      "name": "python"
    }
  },
  "cells": [
    {
      "cell_type": "markdown",
      "metadata": {
        "id": "view-in-github",
        "colab_type": "text"
      },
      "source": [
        "<a href=\"https://colab.research.google.com/github/sharvariK-11/Python-Tutorial/blob/main/Python_newFunctions.ipynb\" target=\"_parent\"><img src=\"https://colab.research.google.com/assets/colab-badge.svg\" alt=\"Open In Colab\"/></a>"
      ]
    },
    {
      "cell_type": "code",
      "metadata": {
        "colab": {
          "base_uri": "https://localhost:8080/"
        },
        "id": "GOkZ_Mq1EOHt",
        "outputId": "27838307-938e-4f39-a1d9-eb59921a6f66"
      },
      "source": [
        "def greet(fname,lname):\n",
        "  print(\"hello\"+ lname+' '+fname)\n",
        "  print('hello',lname,fname)\n",
        "  print(\"hello\",lname)\n",
        "  print()\n",
        "fname= input()  \n",
        "lname=input()\n",
        "greet(lname,fname)"
      ],
      "execution_count": null,
      "outputs": [
        {
          "output_type": "stream",
          "text": [
            "sha\n",
            "va\n",
            "hellosha va\n",
            "hello sha va\n",
            "hello sha\n",
            "\n"
          ],
          "name": "stdout"
        }
      ]
    },
    {
      "cell_type": "code",
      "metadata": {
        "colab": {
          "base_uri": "https://localhost:8080/"
        },
        "id": "Dl7Rq-KUFdX2",
        "outputId": "ca0b086a-3b4a-44c3-a6cd-95ffd2fbc24f"
      },
      "source": [
        "def sq(x):\n",
        "  print(x*x)\n",
        "sq(3)\n",
        "def notyetthought():\n",
        "  pass"
      ],
      "execution_count": null,
      "outputs": [
        {
          "output_type": "stream",
          "text": [
            "9\n"
          ],
          "name": "stdout"
        }
      ]
    },
    {
      "cell_type": "code",
      "metadata": {
        "colab": {
          "base_uri": "https://localhost:8080/"
        },
        "id": "wGnp_zn0KRGd",
        "outputId": "68fb20ed-60ba-46ef-ba56-a5b5c38674d9"
      },
      "source": [
        "def aname(*kids):\n",
        "  print(kids)\n",
        "print(type(aname))\n",
        "aname('sim','tim')\n"
      ],
      "execution_count": null,
      "outputs": [
        {
          "output_type": "stream",
          "text": [
            "<class 'function'>\n",
            "('sim', 'tim')\n"
          ],
          "name": "stdout"
        }
      ]
    },
    {
      "cell_type": "markdown",
      "metadata": {
        "id": "HvSbRytRLRPA"
      },
      "source": [
        "here argument as *something means that tuple is created and thus function can take any no. of arguments and hence each element kids[0] and so can be accesses as well as the whole tuple is also accessed by print(kids)"
      ]
    },
    {
      "cell_type": "code",
      "metadata": {
        "colab": {
          "base_uri": "https://localhost:8080/"
        },
        "id": "XZoVXQwOMUCK",
        "outputId": "f2552156-87c0-4081-d5b6-219f46de967d"
      },
      "source": [
        "def func(**kid):\n",
        "  print(kid[\"lname\"])\n",
        "func(fname=\"shar\",lname=\"kumbhar\")\n"
      ],
      "execution_count": null,
      "outputs": [
        {
          "output_type": "stream",
          "text": [
            "kumbhar\n"
          ],
          "name": "stdout"
        }
      ]
    },
    {
      "cell_type": "markdown",
      "metadata": {
        "id": "I0TtOlEuNpoN"
      },
      "source": [
        "very important!\n",
        "kid[\"lname\"] refers to lname of tuple kid"
      ]
    },
    {
      "cell_type": "code",
      "metadata": {
        "colab": {
          "base_uri": "https://localhost:8080/"
        },
        "id": "CKRUvGjMOsOS",
        "outputId": "55da3c78-93db-466b-98c8-88a69d19b9b0"
      },
      "source": [
        "def all(food):\n",
        "  for x in food:\n",
        "    print(x)\n",
        "    print(food)\n",
        "fruits=['pear','mango','guava']\n",
        "all(fruits)"
      ],
      "execution_count": null,
      "outputs": [
        {
          "output_type": "stream",
          "text": [
            "pear\n",
            "['pear', 'mango', 'guava']\n",
            "mango\n",
            "['pear', 'mango', 'guava']\n",
            "guava\n",
            "['pear', 'mango', 'guava']\n"
          ],
          "name": "stdout"
        }
      ]
    },
    {
      "cell_type": "markdown",
      "metadata": {
        "id": "MEbe0HfvPZRD"
      },
      "source": [
        "each iteration with sequence is completed\n"
      ]
    }
  ]
}