{
  "nbformat": 4,
  "nbformat_minor": 0,
  "metadata": {
    "colab": {
      "name": "Python_newFunctions.ipynb",
      "provenance": [],
      "collapsed_sections": [],
      "authorship_tag": "ABX9TyOO+fXJ7kSwzUmphU27MHzv",
      "include_colab_link": true
    },
    "kernelspec": {
      "name": "python3",
      "display_name": "Python 3"
    },
    "language_info": {
      "name": "python"
    }
  },
  "cells": [
    {
      "cell_type": "markdown",
      "metadata": {
        "id": "view-in-github",
        "colab_type": "text"
      },
      "source": [
        "<a href=\"https://colab.research.google.com/github/sharvariK-11/Python-Tutorial/blob/main/Python_newFunctions.ipynb\" target=\"_parent\"><img src=\"https://colab.research.google.com/assets/colab-badge.svg\" alt=\"Open In Colab\"/></a>"
      ]
    },
    {
      "cell_type": "code",
      "metadata": {
        "colab": {
          "base_uri": "https://localhost:8080/"
        },
        "id": "GOkZ_Mq1EOHt",
        "outputId": "27838307-938e-4f39-a1d9-eb59921a6f66"
      },
      "source": [
        "def greet(fname,lname):\n",
        "  print(\"hello\"+ lname+' '+fname)\n",
        "  print('hello',lname,fname)\n",
        "  print(\"hello\",lname)\n",
        "  print()\n",
        "fname= input()  \n",
        "lname=input()\n",
        "greet(lname,fname)"
      ],
      "execution_count": null,
      "outputs": [
        {
          "output_type": "stream",
          "text": [
            "sha\n",
            "va\n",
            "hellosha va\n",
            "hello sha va\n",
            "hello sha\n",
            "\n"
          ],
          "name": "stdout"
        }
      ]
    },
    {
      "cell_type": "code",
      "metadata": {
        "colab": {
          "base_uri": "https://localhost:8080/"
        },
        "id": "Dl7Rq-KUFdX2",
        "outputId": "ca0b086a-3b4a-44c3-a6cd-95ffd2fbc24f"
      },
      "source": [
        "def sq(x):\n",
        "  print(x*x)\n",
        "sq(3)\n",
        "def notyetthought():\n",
        "  pass"
      ],
      "execution_count": null,
      "outputs": [
        {
          "output_type": "stream",
          "text": [
            "9\n"
          ],
          "name": "stdout"
        }
      ]
    },
    {
      "cell_type": "code",
      "metadata": {
        "colab": {
          "base_uri": "https://localhost:8080/"
        },
        "id": "goK_ynLhJAJ5",
        "outputId": "86edf32d-9763-49a2-ee22-94d7f671f085"
      },
      "source": [
        "def aname(*kids):\n",
        "  print(kids)\n",
        "  type(kids)\n",
        "aname(\"tim\",\"sim\")"
      ],
      "execution_count": null,
      "outputs": [
        {
          "output_type": "stream",
          "text": [
            "('tim', 'sim')\n"
          ],
          "name": "stdout"
        }
      ]
    }
  ]
}